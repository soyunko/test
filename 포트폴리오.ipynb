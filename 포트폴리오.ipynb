{
 "cells": [
  {
   "cell_type": "markdown",
   "metadata": {
    "id": "a7APUOLWlmwP"
   },
   "source": [
    "# 포트폴리오 전체 양식\n",
    "- 헤더: 이름, 연락처, github프로필\n",
    "- 요약: 자기소개, 장점, 특기분야\n",
    "- 경력:\n",
    "- 교육:\n",
    "- 기술, 자격증:\n",
    "- 프로젝트 요약:"
   ]
  },
  {
   "cell_type": "markdown",
   "metadata": {
    "id": "nGiHvxTImAJf"
   },
   "source": [
    "# **프로젝트**"
   ]
  },
  {
   "cell_type": "markdown",
   "metadata": {
    "id": "Or-iZxZlVMB_"
   },
   "source": [
    "# 프로젝트 명: '노트북 판매순위와 인기요인 리뷰 분석을 통한 LG전자 노트북 판매 전략 수립'"
   ]
  },
  {
   "cell_type": "markdown",
   "metadata": {
    "id": "mEDsi-9DWtSI"
   },
   "source": [
    "# 목차\n",
    "A. 프로젝트 개요\n",
    "  - 프로젝트명\n",
    "  - 프로젝트를 들어가며\n",
    "  - 사용된 개발환경, 패키지, 툴, 응용프로그램 \n",
    "  - 프로젝트의 목표\n",
    "\n",
    "B. 작업 계획\n",
    "  - gantt chart\n",
    "  - 작업 순서도\n",
    "\n",
    "C. 데이터 처리 및 분석\n",
    "  - phase 1. 데이터 수집/저장\n",
    "    - 1.1 데이터 소스 설명\n",
    "    - 1.2 데이터 수집 방법\n",
    "  - phase 2. 데이터 전처리\n",
    "    - 2.1 데이터 클렌징\n",
    "    - 2.2 결측치 처리\n",
    "    - 2.3 데이터 변환 및 정규화\n",
    "  - phase 3. 통계학적 분석/ 시각화\n",
    "    - 3.1 데이터 탐색\n",
    "    - 3.2 시각화 도구 및 기법\n",
    "    - 3.3 통계적 분석의 결론\n",
    "\n",
    "D. 모델링 및 평가\n",
    "  - phase 4. 머신러닝\n",
    "    - 4.1 모델 선택\n",
    "    - 4.2 데이터 준비/인코딩\n",
    "    - 4.3 모델 학습\n",
    "    - 4.4 모델 평가\n",
    "    - 4.5 예측결과 및 시각화\n",
    "    - 4.6 하이퍼 파라미터 튜닝\n",
    "    - 4.7 모델 개선\n",
    "  - 예측결과와 결론\n",
    "\n",
    "E. 응용 및 배포\n",
    " - phase 5. 응용 어플리케이션\n",
    "  - 5.1 개요 및 알고리즘\n",
    "  - 5.2 플랫폼\n",
    "  - 5.3 백엔드 및 UI\n",
    "  - 5.4 테스트\n",
    "  - 5.5 소스코드\n",
    "  - 5.6 피드백\n",
    "\n",
    "F. 마무리"
   ]
  },
  {
   "cell_type": "markdown",
   "metadata": {
    "id": "Szc2oi0kP0LE"
   },
   "source": [
    "# A. 프로젝트 개요"
   ]
  },
  {
   "cell_type": "markdown",
   "metadata": {
    "id": "VllFJ5e3QhcE"
   },
   "source": [
    "## 프로젝트명"
   ]
  },
  {
   "cell_type": "markdown",
   "metadata": {
    "id": "IuYQjcQ-QHUn"
   },
   "source": [
    "## 프로젝트를 들어가며"
   ]
  },
  {
   "cell_type": "markdown",
   "metadata": {},
   "source": [
    "\n",
    " 전자체품 마케팅을 펼치는 프로젝트를 하고자 하여 각 회사별로 기기별 점유율에 대하여 알아보다가, LG 노트북이 삼성 노트북에 비해 국내 점유율이 낮은 사실을 깨닫고, \n",
    " LG전자 노트북의 판매량을 올려야 한다면 어떤 데이터 분석을 통하여 마케팅 전략을 세울 수 있을까 라는 목표의식이 생겨 진행하게 되었습니다. \n",
    " "
   ]
  },
  {
   "cell_type": "markdown",
   "metadata": {
    "id": "As3SL-_CQnbU"
   },
   "source": [
    "### 사용된 개발환경, 패키지, 툴, 응용프로그램"
   ]
  },
  {
   "cell_type": "code",
   "execution_count": null,
   "metadata": {
    "id": "OjHWzUdyIV_H"
   },
   "outputs": [],
   "source": [
    "#예)\n",
    "프로그래밍 언어: Python3\n",
    "데이터 수집: Selenium, BeautifulSoup,\n",
    "데이터 전처리: pandas, numpy, matplotlib, seaborn\n",
    "데이터 분석: pandas, numpy, matplotlib, seaborn\n",
    "딥러닝 프레임워크: 텐서플로 Sequencial\n",
    "한글처리 형태소 패키지: konlpy-Okt\n",
    "머신러닝 패키지: sklearn\n",
    "머신러닝 알고리즘: 로지스틱 회귀\n",
    "LLM: llama3"
   ]
  },
  {
   "cell_type": "code",
   "execution_count": null,
   "metadata": {
    "id": "YTiCsyl6tBhS"
   },
   "outputs": [],
   "source": [
    "# 프로젝트에 고려할 수 있는 AI 서비스 & API (유, 무료)\n",
    "google, naver 등등\n",
    "- 지도 서비스: 예, 맛집추천 , 부동산, 제품 재고 현황, 코로나 감염자정보등 지역별 정보를 표시해야 할때.\n",
    "\n",
    "- 사물인식/안면인식(이미지, 영상, 실시간 웹캠): 사용자의 웹캠, 이미지와 관련된 app, 설치형 app. 뷰티(패션)분야 -> 안면인식. 비대면 실명인증,\n",
    "\n",
    "- OCR(광학문자인식 opti-char-recog):  영상 및 이미지에서 텍스트를 추출하는 기술. 예) 영상강의의 판서내용 추출 및 요약, 영수증리뷰, 사람의 필기체에서 문자열을 추출,  차량번호판\n",
    "\n",
    "- GPS: 개인, 기기의 gps정보를 수신.  (GPS+AR)\n",
    "\n",
    "- 챗봇api(llama):  자동응답시스템(고객관리), 컴퓨터의 초기 판단이 필요할때,\n",
    "\n",
    "- 결제, 설문, 번역:"
   ]
  },
  {
   "cell_type": "markdown",
   "metadata": {
    "id": "uqAavopzQTo7"
   },
   "source": [
    "## 프로젝트의 목표"
   ]
  },
  {
   "cell_type": "markdown",
   "metadata": {
    "id": "bpBCbSDMQ3tu"
   },
   "source": [
    "# B. 작업계획"
   ]
  },
  {
   "cell_type": "markdown",
   "metadata": {
    "id": "JR_qMzkTQ-rj"
   },
   "source": [
    "## Gantt chart\n",
    "\n",
    "필요한 데이터 무엇인지 파악\n",
    "\n",
    "데이터를 어떻게, 어디서 수집할 수 있을지 선정하기.\n",
    "\n",
    "데이터 수집 \n",
    "\n",
    "데이터 정제 - 중복제거, 열 정리 등\n",
    "\n",
    "데이터 분석 \n",
    "\n",
    "데이터 머신러닝,딥러닝 - 리뷰 단어 감정분석  "
   ]
  },
  {
   "cell_type": "markdown",
   "metadata": {
    "id": "e0DDtXiwRDWV"
   },
   "source": [
    "## 작업순서도"
   ]
  },
  {
   "cell_type": "code",
   "execution_count": null,
   "metadata": {
    "id": "I-ZdvaloRGlu"
   },
   "outputs": [],
   "source": [
    "(전체 프로젝트의 흐름을 시각적으로 나타내어\n",
    " 각 단계를 쉽게 이해할 수 있도록 합니다.)\n"
   ]
  },
  {
   "cell_type": "markdown",
   "metadata": {
    "id": "sHgJOrl8qaci"
   },
   "source": [
    "회의\n",
    "자료조사\n",
    "분석 -> 통계분석(1,2,3)\n",
    "머신러닝 전처리\n",
    "패키지 설치"
   ]
  },
  {
   "cell_type": "markdown",
   "metadata": {
    "id": "PCxlOH6rJu08"
   },
   "source": [
    "## 응용프로그램 순서도"
   ]
  },
  {
   "cell_type": "markdown",
   "metadata": {
    "id": "EAIuxqh_qsOi"
   },
   "source": [
    "프로그램시작 -> 수치가 10이 넘는가? ->(네) phase2\n",
    "             ->(아니오) for"
   ]
  },
  {
   "cell_type": "markdown",
   "metadata": {
    "id": "J0Bz0URBRS8y"
   },
   "source": [
    "#C. 데이터 처리 및 분석"
   ]
  },
  {
   "cell_type": "markdown",
   "metadata": {
    "id": "whf1ZMmICaVw"
   },
   "source": [
    "-"
   ]
  },
  {
   "cell_type": "markdown",
   "metadata": {
    "id": "eFgk61kNRtoL"
   },
   "source": [
    "## Phase1. 데이터 수집 및 저장"
   ]
  },
  {
   "cell_type": "markdown",
   "metadata": {
    "id": "btMZhnJC_ImC"
   },
   "source": [
    " -\n",
    " -\n"
   ]
  },
  {
   "cell_type": "code",
   "execution_count": null,
   "metadata": {
    "id": "gjzHJaYPJ5xz"
   },
   "outputs": [],
   "source": [
    "(데이터는 공개데이터세트, API, 웹크롤링등의 방법을 결정 및 조합 합니다.)"
   ]
  },
  {
   "cell_type": "markdown",
   "metadata": {},
   "source": [
    "# 다나와 사이트 - 노트북 인기순 제품명, 상세 사양 리스트 - 18,000여개"
   ]
  },
  {
   "cell_type": "code",
   "execution_count": null,
   "metadata": {},
   "outputs": [],
   "source": [
    "import re\n",
    "import csv\n",
    "from selenium import webdriver\n",
    "from selenium.webdriver.chrome.service import Service\n",
    "from selenium.webdriver.common.by import By\n",
    "from selenium.webdriver.support.ui import WebDriverWait\n",
    "from selenium.webdriver.support import expected_conditions as EC\n",
    "from webdriver_manager.chrome import ChromeDriverManager\n",
    "import time\n",
    "\n",
    "# 크롬 브라우저 설정\n",
    "options = webdriver.ChromeOptions()\n",
    "options.add_argument(\"--start-maximized\")\n",
    "options.add_experimental_option(\"detach\", True)\n",
    "options.add_argument(\"--disable-blink-features=AutomationControlled\")\n",
    "options.add_argument(\"--disable-popup-blocking\")  # 팝업 차단 비활성화\n",
    "\n",
    "# WebDriver 초기화\n",
    "service = Service(ChromeDriverManager().install())\n",
    "driver = webdriver.Chrome(service=service, options=options)\n",
    "\n",
    "# Danawa 페이지 접속\n",
    "driver.get(\"https://prod.danawa.com/list/?cate=112758&15main_11_02=\")\n",
    "\n",
    "# 데이터 저장 리스트\n",
    "products_data = []\n",
    "\n",
    "page_number = 1  # 첫 페이지부터 시작\n",
    "while True:\n",
    "    try:\n",
    "        # JavaScript로 페이지 이동 (2페이지 이후부터)\n",
    "        if page_number > 1:\n",
    "            script = f\"javascript:movePage({page_number});\"\n",
    "            driver.execute_script(script)\n",
    "            time.sleep(2)  # 페이지 로드 대기\n",
    "\n",
    "        # 페이지 내용 출력\n",
    "        print(f\"\\n--- Page {page_number} ---\")\n",
    "\n",
    "        # 제품 정보 가져오기\n",
    "        try:\n",
    "            product_elements = WebDriverWait(driver, 10).until(\n",
    "                EC.presence_of_all_elements_located((By.CLASS_NAME, \"prod_main_info\"))\n",
    "            )\n",
    "            print(f\"제품 요소 개수: {len(product_elements)}\")\n",
    "        except Exception as e:\n",
    "            print(f\"제품 정보 로드 실패: {e}\")\n",
    "            break\n",
    "\n",
    "        # 제품이 없으면 종료\n",
    "        if not product_elements:\n",
    "            print(\"더 이상 페이지가 없습니다. 크롤링을 종료합니다.\")\n",
    "            break\n",
    "\n",
    "        for product_element in product_elements[4:]:  # 첫 4개 제품 제외\n",
    "            try:\n",
    "                # 제품 이름 가져오기\n",
    "                name_element = product_element.find_element(By.CLASS_NAME, \"prod_name\")\n",
    "                product_name = name_element.text.strip()\n",
    "\n",
    "                # ul의 첫 번째 li에서 가격 가져오기\n",
    "                try:\n",
    "                    ul_element = product_element.find_element(By.CLASS_NAME, \"prod_pricelist\")  # ul 요소 선택\n",
    "                    li_elements = ul_element.find_elements(By.TAG_NAME, \"li\")  # 모든 li 요소 가져오기\n",
    "                    if li_elements:\n",
    "                        first_li_element = li_elements[0]  # 첫 번째 li 선택\n",
    "                        price_element = first_li_element.find_element(By.CSS_SELECTOR, \"p.price_sect > a > strong\")\n",
    "                        product_price = price_element.text.strip()\n",
    "                    else:\n",
    "                        product_price = \"가격 정보 없음\"\n",
    "                except Exception as price_e:\n",
    "                    product_price = \"가격 정보 없음\"\n",
    "                    print(f\"Price extraction error: {price_e}\")\n",
    "\n",
    "                # spec_list 가져오기\n",
    "                try:\n",
    "                    # 명시적으로 spec_list가 로드될 때까지 대기\n",
    "                    spec_element = WebDriverWait(product_element, 10).until(\n",
    "                        EC.presence_of_element_located((By.CSS_SELECTOR, \"div.spec-box.spec-box--full > div.spec_list\"))\n",
    "                    )\n",
    "\n",
    "                    # 스펙 데이터를 개별 태그로 가져오기\n",
    "                    spec_text = spec_element.text.strip()  # 전체 텍스트 가져오기\n",
    "\n",
    "                    # 스펙이 비어 있을 경우 처리\n",
    "                    if not spec_text:\n",
    "                        product_spec = \"스펙 정보 없음\"\n",
    "                    else:\n",
    "                        product_spec = spec_text.replace(\"\\n\", \" / \")  # 줄바꿈을 슬래시로 변환\n",
    "                except Exception as spec_e:\n",
    "                    product_spec = \"스펙 정보 없음\"\n",
    "                    print(f\"Spec extraction error: {spec_e}\")\n",
    "\n",
    "                # 데이터 저장\n",
    "                products_data.append({\n",
    "                    \"제품명\": product_name,\n",
    "                    \"가격\": product_price,\n",
    "                    \"스펙\": product_spec\n",
    "                })\n",
    "                print(f\"제품명: {product_name}, 가격: {product_price}, 스펙: {product_spec}\")\n",
    "\n",
    "            except Exception as inner_e:\n",
    "                print(f\"Error extracting product info: {inner_e}\")\n",
    "\n",
    "        # 페이지 번호 증가\n",
    "        page_number += 1\n",
    "\n",
    "    except Exception as e:\n",
    "        print(f\"Error on page {page_number}: {e}\")\n",
    "        break  # 예상치 못한 오류 발생 시 종료\n",
    "\n",
    "# WebDriver 종료\n",
    "driver.quit()\n",
    "\n",
    "# CSV 파일로 저장\n",
    "csv_file_name = \"danawa_products_with_specs.csv\"\n",
    "with open(csv_file_name, mode=\"w\", newline=\"\", encoding=\"utf-8-sig\") as file:\n",
    "    writer = csv.DictWriter(file, fieldnames=[\"제품명\", \"가격\", \"스펙\"])\n",
    "    writer.writeheader()\n",
    "    writer.writerows(products_data)\n",
    "\n",
    "print(f\"크롤링 데이터가 '{csv_file_name}' 파일에 저장되었습니다.\")\n"
   ]
  },
  {
   "cell_type": "code",
   "execution_count": null,
   "metadata": {},
   "outputs": [],
   "source": [
    "\n",
    "import re\n",
    "import time\n",
    "import csv\n",
    "import os\n",
    "from selenium import webdriver\n",
    "from selenium.webdriver.chrome.service import Service\n",
    "from selenium.webdriver.common.by import By\n",
    "from selenium.webdriver.support.ui import WebDriverWait\n",
    "from selenium.webdriver.support import expected_conditions as EC\n",
    "from selenium.common.exceptions import UnexpectedAlertPresentException, TimeoutException\n",
    "from webdriver_manager.chrome import ChromeDriverManager\n",
    "\n",
    "# 크롬 브라우저 설정\n",
    "options = webdriver.ChromeOptions()\n",
    "options.add_argument(\"--start-maximized\")\n",
    "options.add_experimental_option(\"detach\", True)\n",
    "options.add_argument(\"--disable-popup-blocking\")\n",
    "\n",
    "# WebDriver 초기화\n",
    "service = Service(ChromeDriverManager().install())\n",
    "driver = webdriver.Chrome(service=service, options=options)\n",
    "\n",
    "# Danawa 메인 페이지 접속\n",
    "driver.get(\"https://prod.danawa.com/list/?cate=112758&15main_11_02=\")\n",
    "\n",
    "# CSV 파일 경로\n",
    "output_file = \"reviews_data_2.csv\"\n",
    "\n",
    "# 진행 상태 추적\n",
    "visited_products = set()\n",
    "start_page = 11\n",
    "\n",
    "# 기존 데이터 로드 및 진행 상태 초기화\n",
    "def load_existing_data():\n",
    "    global visited_products, start_page\n",
    "    if os.path.exists(output_file):\n",
    "        with open(output_file, mode=\"r\", encoding=\"utf-8-sig\") as file:\n",
    "            reader = csv.reader(file)\n",
    "            next(reader)  # 헤더 건너뛰기\n",
    "            for row in reader:\n",
    "                visited_products.add(row[0])\n",
    "        # 마지막 페이지 추출 (파일명을 통해 확인 가능)\n",
    "        start_page = max(start_page, (len(visited_products) // 10) + 1)\n",
    "\n",
    "load_existing_data()\n",
    "\n",
    "# CSV 파일 생성 (없으면 생성, 있으면 이어쓰기)\n",
    "if not os.path.exists(output_file):\n",
    "    with open(output_file, mode=\"w\", newline=\"\", encoding=\"utf-8-sig\") as file:\n",
    "        writer = csv.writer(file)\n",
    "        writer.writerow([\"제품명\", \"제목\", \"이름\", \"리뷰\"])\n",
    "\n",
    "def click_all_expand_buttons():\n",
    "    for j in range(10):\n",
    "        try:\n",
    "            button_xpath = f'//*[@id=\"danawa-prodBlog-companyReview-button-more-{j}\"]'\n",
    "            button = WebDriverWait(driver, 5).until(\n",
    "                EC.presence_of_element_located((By.XPATH, button_xpath))\n",
    "            )\n",
    "            driver.execute_script(\"arguments[0].click();\", button)\n",
    "            time.sleep(1)\n",
    "        except TimeoutException:\n",
    "            pass\n",
    "        except Exception as e:\n",
    "            print(f\"펼쳐보기 버튼 처리 중 오류 발생: {e}\")\n",
    "\n",
    "def collect_titles_reviews_and_names(writer, product_name):\n",
    "    try:\n",
    "        title_elements = driver.find_elements(By.CSS_SELECTOR, \"div.tit_W > p.tit\")\n",
    "        name_elements = driver.find_elements(By.CLASS_NAME, \"name\")\n",
    "        review_elements = driver.find_elements(By.CLASS_NAME, \"atc\")\n",
    "\n",
    "        max_length = min(10, max(len(title_elements), len(name_elements), len(review_elements)))\n",
    "\n",
    "        for i in range(max_length):\n",
    "            title_text = title_elements[i].text.strip() if i < len(title_elements) else \"제목 없음\"\n",
    "            name_text = name_elements[i].text.strip() if i < len(name_elements) else \"이름 없음\"\n",
    "            review_text = review_elements[i].text.strip() if i < len(review_elements) else \"리뷰 없음\"\n",
    "            writer.writerow([product_name, title_text, name_text, review_text])\n",
    "    except Exception as e:\n",
    "        print(f\"리뷰 수집 중 오류 발생: {e}\")\n",
    "\n",
    "def handle_unexpected_alert():\n",
    "    try:\n",
    "        alert = driver.switch_to.alert\n",
    "        alert.accept()\n",
    "        time.sleep(1)\n",
    "    except Exception:\n",
    "        pass\n",
    "\n",
    "def navigate_through_pages():\n",
    "    for k in range(start_page, 21):\n",
    "        try:\n",
    "            print(f\"페이지 {k}로 이동 중...\")\n",
    "            driver.execute_script(f\"movePage({k});\")\n",
    "            time.sleep(3)\n",
    "\n",
    "            product_elements = driver.find_elements(By.CLASS_NAME, \"prod_main_info\")\n",
    "            process_products(product_elements, skip_first=4 if k == 1 else 0)\n",
    "\n",
    "        except Exception as e:\n",
    "            print(f\"페이지 {k}에서 오류 발생: {e}\")\n",
    "            continue\n",
    "\n",
    "def process_products(product_elements, skip_first=0):\n",
    "    with open(output_file, mode=\"a\", newline=\"\", encoding=\"utf-8-sig\") as file:\n",
    "        writer = csv.writer(file)\n",
    "        for idx, product_element in enumerate(product_elements[skip_first:], start=1):\n",
    "            try:\n",
    "                name_element = product_element.find_element(By.CLASS_NAME, \"prod_name\")\n",
    "                product_name = name_element.text.strip()\n",
    "\n",
    "                if product_name in visited_products:\n",
    "                    print(f\"이미 처리된 제품: {product_name}, 건너뛰기\")\n",
    "                    continue\n",
    "\n",
    "                link_element = name_element.find_element(By.TAG_NAME, \"a\")\n",
    "                product_url = link_element.get_attribute(\"href\")\n",
    "\n",
    "                pcode_match = re.search(r'pcode=(\\d{8})', product_url)\n",
    "                pcode = pcode_match.group(1) if pcode_match else \"N/A\"\n",
    "\n",
    "                print(f\"{idx}. 제품명: {product_name}, pcode: {pcode}\")\n",
    "\n",
    "                driver.execute_script(\"window.open(arguments[0]);\", product_url)\n",
    "                driver.switch_to.window(driver.window_handles[-1])\n",
    "                time.sleep(2)\n",
    "\n",
    "                driver.find_element(By.XPATH, '//*[@id=\"bookmark_cm_opinion_item\"]/a').click()\n",
    "                time.sleep(2)\n",
    "                driver.find_element(By.XPATH, '//*[@id=\"danawa-prodBlog-productOpinion-button-tab-companyReview\"]').click()\n",
    "                time.sleep(2)\n",
    "\n",
    "                click_all_expand_buttons()\n",
    "                collect_titles_reviews_and_names(writer, product_name)\n",
    "\n",
    "                visited_products.add(product_name)\n",
    "\n",
    "                driver.close()\n",
    "                driver.switch_to.window(driver.window_handles[0])\n",
    "\n",
    "            except UnexpectedAlertPresentException:\n",
    "                handle_unexpected_alert()\n",
    "            except Exception as e:\n",
    "                print(f\"Error processing product {idx}: {e}\")\n",
    "\n",
    "try:\n",
    "    navigate_through_pages()\n",
    "except Exception as e:\n",
    "    print(f\"오류 발생: {e}\")\n",
    "\n",
    "driver.quit()\n"
   ]
  },
  {
   "cell_type": "code",
   "execution_count": 1,
   "metadata": {},
   "outputs": [
    {
     "data": {
      "text/html": [
       "<div>\n",
       "<style scoped>\n",
       "    .dataframe tbody tr th:only-of-type {\n",
       "        vertical-align: middle;\n",
       "    }\n",
       "\n",
       "    .dataframe tbody tr th {\n",
       "        vertical-align: top;\n",
       "    }\n",
       "\n",
       "    .dataframe thead th {\n",
       "        text-align: right;\n",
       "    }\n",
       "</style>\n",
       "<table border=\"1\" class=\"dataframe\">\n",
       "  <thead>\n",
       "    <tr style=\"text-align: right;\">\n",
       "      <th></th>\n",
       "      <th>제품명</th>\n",
       "      <th>가격</th>\n",
       "      <th>스펙</th>\n",
       "    </tr>\n",
       "  </thead>\n",
       "  <tbody>\n",
       "    <tr>\n",
       "      <th>0</th>\n",
       "      <td>1 삼성전자 갤럭시북5 프로 NT940XHA-K51A 표준노트북</td>\n",
       "      <td>1,469,000</td>\n",
       "      <td>AI 노트북/운영체제(OS): 윈도우11홈/용도: 사무/인강용, 휴대용/ / [화면...</td>\n",
       "    </tr>\n",
       "    <tr>\n",
       "      <th>1</th>\n",
       "      <td>2 LG전자 그램 프로16 16Z90SP-GA5CK</td>\n",
       "      <td>1,508,110</td>\n",
       "      <td>AI 노트북/운영체제(OS): 윈도우11홈/용도: 사무/인강용, 휴대용/ / [화면...</td>\n",
       "    </tr>\n",
       "    <tr>\n",
       "      <th>2</th>\n",
       "      <td>3 삼성전자 갤럭시북5 프로 NT960XHA-K71A 표준노트북</td>\n",
       "      <td>1,899,000</td>\n",
       "      <td>AI 노트북/운영체제(OS): 윈도우11홈/용도: 사무/인강용/ / [화면정보] 4...</td>\n",
       "    </tr>\n",
       "    <tr>\n",
       "      <th>3</th>\n",
       "      <td>4 삼성전자 갤럭시북4 NT750XGR-A51A WIN11</td>\n",
       "      <td>766,000</td>\n",
       "      <td>노트북/운영체제(OS): 윈도우11(설치)/용도: 사무/인강용/ / [화면정보] 3...</td>\n",
       "    </tr>\n",
       "    <tr>\n",
       "      <th>4</th>\n",
       "      <td>5 MSI GF시리즈 소드 GF76 A AI B8VF-R7</td>\n",
       "      <td>1,219,170</td>\n",
       "      <td>AI 노트북/운영체제(OS): 미포함(프리도스)/용도: 게임용/ / [화면정보] 4...</td>\n",
       "    </tr>\n",
       "    <tr>\n",
       "      <th>...</th>\n",
       "      <td>...</td>\n",
       "      <td>...</td>\n",
       "      <td>...</td>\n",
       "    </tr>\n",
       "    <tr>\n",
       "      <th>18757</th>\n",
       "      <td>삼성전자 갤럭시북3 프로360 NT960QFG-K71AR</td>\n",
       "      <td>2,297,000</td>\n",
       "      <td>2 in 1/운영체제(OS): 윈도우11홈/용도: 사무/인강용/ / [화면정보] 4...</td>\n",
       "    </tr>\n",
       "    <tr>\n",
       "      <th>18758</th>\n",
       "      <td>삼성전자 갤럭시북5 프로 NT960XHA-KC51S</td>\n",
       "      <td>1,968,880</td>\n",
       "      <td>AI 노트북/운영체제(OS): 윈도우11홈/용도: 사무/인강용/ / [화면정보] 4...</td>\n",
       "    </tr>\n",
       "    <tr>\n",
       "      <th>18759</th>\n",
       "      <td>LG전자 그램 프로17 17Z90SP-EA5CK</td>\n",
       "      <td>1,898,000</td>\n",
       "      <td>AI 노트북/운영체제(OS): 윈도우11홈/용도: 그래픽작업용, 휴대용/ / [화면...</td>\n",
       "    </tr>\n",
       "    <tr>\n",
       "      <th>18760</th>\n",
       "      <td>LG전자 2023 그램17 17ZD90RU-GX56K</td>\n",
       "      <td>1,379,000</td>\n",
       "      <td>노트북/운영체제(OS): 미포함(프리도스)/용도: 사무/인강용, 휴대용/ / [화면...</td>\n",
       "    </tr>\n",
       "    <tr>\n",
       "      <th>18761</th>\n",
       "      <td>LG전자 그램 프로360 16T90SP-KD79K</td>\n",
       "      <td>2,399,000</td>\n",
       "      <td>AI 노트북/운영체제(OS): 윈도우11홈/용도: 사무/인강용, 휴대용/ / [화면...</td>\n",
       "    </tr>\n",
       "  </tbody>\n",
       "</table>\n",
       "<p>18762 rows × 3 columns</p>\n",
       "</div>"
      ],
      "text/plain": [
       "                                       제품명         가격  \\\n",
       "0      1 삼성전자 갤럭시북5 프로 NT940XHA-K51A 표준노트북  1,469,000   \n",
       "1             2 LG전자 그램 프로16 16Z90SP-GA5CK  1,508,110   \n",
       "2      3 삼성전자 갤럭시북5 프로 NT960XHA-K71A 표준노트북  1,899,000   \n",
       "3         4 삼성전자 갤럭시북4 NT750XGR-A51A WIN11    766,000   \n",
       "4         5 MSI GF시리즈 소드 GF76 A AI B8VF-R7  1,219,170   \n",
       "...                                    ...        ...   \n",
       "18757      삼성전자 갤럭시북3 프로360 NT960QFG-K71AR  2,297,000   \n",
       "18758         삼성전자 갤럭시북5 프로 NT960XHA-KC51S  1,968,880   \n",
       "18759           LG전자 그램 프로17 17Z90SP-EA5CK  1,898,000   \n",
       "18760        LG전자 2023 그램17 17ZD90RU-GX56K  1,379,000   \n",
       "18761          LG전자 그램 프로360 16T90SP-KD79K  2,399,000   \n",
       "\n",
       "                                                      스펙  \n",
       "0      AI 노트북/운영체제(OS): 윈도우11홈/용도: 사무/인강용, 휴대용/ / [화면...  \n",
       "1      AI 노트북/운영체제(OS): 윈도우11홈/용도: 사무/인강용, 휴대용/ / [화면...  \n",
       "2      AI 노트북/운영체제(OS): 윈도우11홈/용도: 사무/인강용/ / [화면정보] 4...  \n",
       "3      노트북/운영체제(OS): 윈도우11(설치)/용도: 사무/인강용/ / [화면정보] 3...  \n",
       "4      AI 노트북/운영체제(OS): 미포함(프리도스)/용도: 게임용/ / [화면정보] 4...  \n",
       "...                                                  ...  \n",
       "18757  2 in 1/운영체제(OS): 윈도우11홈/용도: 사무/인강용/ / [화면정보] 4...  \n",
       "18758  AI 노트북/운영체제(OS): 윈도우11홈/용도: 사무/인강용/ / [화면정보] 4...  \n",
       "18759  AI 노트북/운영체제(OS): 윈도우11홈/용도: 그래픽작업용, 휴대용/ / [화면...  \n",
       "18760  노트북/운영체제(OS): 미포함(프리도스)/용도: 사무/인강용, 휴대용/ / [화면...  \n",
       "18761  AI 노트북/운영체제(OS): 윈도우11홈/용도: 사무/인강용, 휴대용/ / [화면...  \n",
       "\n",
       "[18762 rows x 3 columns]"
      ]
     },
     "execution_count": 1,
     "metadata": {},
     "output_type": "execute_result"
    }
   ],
   "source": [
    "import pandas as pd\n",
    "\n",
    "df = pd.read_csv(\"danawa_products_with_specs.csv\")\n",
    "df"
   ]
  },
  {
   "cell_type": "markdown",
   "metadata": {},
   "source": [
    "# 분석 계획 세우기\n",
    "- 가격 순으로 나열하기 - 상위 50개와 인기순 데이터에서의 상위 50개 상관관계 분석 \n",
    "- 스펙 분류 \n",
    "- 스펙이 ㅇㅇ한 순으로 나열하기 - 상관관계 분석  : \n",
    " 화면 인치 , 노트북인지 AI노트북인지 ,cpu ,  무게 , 용도:사무용 등 무엇인지 , \n",
    "- "
   ]
  },
  {
   "cell_type": "markdown",
   "metadata": {},
   "source": [
    "# 다나와 사이트 - 노트북 18,000여개의 각 리뷰들 모음"
   ]
  },
  {
   "cell_type": "code",
   "execution_count": null,
   "metadata": {},
   "outputs": [],
   "source": [
    "import re\n",
    "import time\n",
    "import csv\n",
    "import os\n",
    "from selenium import webdriver\n",
    "from selenium.webdriver.chrome.service import Service\n",
    "from selenium.webdriver.common.by import By\n",
    "from selenium.webdriver.support.ui import WebDriverWait\n",
    "from selenium.webdriver.support import expected_conditions as EC\n",
    "from selenium.common.exceptions import UnexpectedAlertPresentException, TimeoutException\n",
    "from webdriver_manager.chrome import ChromeDriverManager\n",
    "\n",
    "# 크롬 브라우저 설정\n",
    "options = webdriver.ChromeOptions()\n",
    "options.add_argument(\"--start-maximized\")\n",
    "options.add_experimental_option(\"detach\", True)\n",
    "options.add_argument(\"--disable-popup-blocking\")\n",
    "\n",
    "# WebDriver 초기화\n",
    "service = Service(ChromeDriverManager().install())\n",
    "driver = webdriver.Chrome(service=service, options=options)\n",
    "\n",
    "# Danawa 메인 페이지 접속\n",
    "driver.get(\"https://prod.danawa.com/list/?cate=112758&15main_11_02=\")\n",
    "\n",
    "# CSV 파일 경로\n",
    "output_file = \"reviews_data.csv\"\n",
    "\n",
    "# 진행 상태 추적\n",
    "visited_products = set()\n",
    "start_page = 1\n",
    "\n",
    "# 기존 데이터 로드 및 진행 상태 초기화\n",
    "def load_existing_data():\n",
    "    global visited_products, start_page\n",
    "    if os.path.exists(output_file):\n",
    "        with open(output_file, mode=\"r\", encoding=\"utf-8-sig\") as file:\n",
    "            reader = csv.reader(file)\n",
    "            next(reader)  # 헤더 건너뛰기\n",
    "            for row in reader:\n",
    "                visited_products.add(row[0])\n",
    "        # 마지막 페이지 추출 (파일명을 통해 확인 가능)\n",
    "        start_page = max(start_page, (len(visited_products) // 10) + 1)\n",
    "\n",
    "load_existing_data()\n",
    "\n",
    "# CSV 파일 생성 (없으면 생성, 있으면 이어쓰기)\n",
    "if not os.path.exists(output_file):\n",
    "    with open(output_file, mode=\"w\", newline=\"\", encoding=\"utf-8-sig\") as file:\n",
    "        writer = csv.writer(file)\n",
    "        writer.writerow([\"제품명\", \"제목\", \"이름\", \"리뷰\"])\n",
    "\n",
    "def click_all_expand_buttons():\n",
    "    for j in range(10):\n",
    "        try:\n",
    "            button_xpath = f'//*[@id=\"danawa-prodBlog-companyReview-button-more-{j}\"]'\n",
    "            button = WebDriverWait(driver, 5).until(\n",
    "                EC.presence_of_element_located((By.XPATH, button_xpath))\n",
    "            )\n",
    "            driver.execute_script(\"arguments[0].click();\", button)\n",
    "            time.sleep(1)\n",
    "        except TimeoutException:\n",
    "            pass\n",
    "        except Exception as e:\n",
    "            print(f\"펼쳐보기 버튼 처리 중 오류 발생: {e}\")\n",
    "\n",
    "def collect_titles_reviews_and_names(writer, product_name):\n",
    "    try:\n",
    "        title_elements = driver.find_elements(By.CSS_SELECTOR, \"div.tit_W > p.tit\")\n",
    "        name_elements = driver.find_elements(By.CLASS_NAME, \"name\")\n",
    "        review_elements = driver.find_elements(By.CLASS_NAME, \"atc\")\n",
    "\n",
    "        max_length = min(10, max(len(title_elements), len(name_elements), len(review_elements)))\n",
    "\n",
    "        for i in range(max_length):\n",
    "            title_text = title_elements[i].text.strip() if i < len(title_elements) else \"제목 없음\"\n",
    "            name_text = name_elements[i].text.strip() if i < len(name_elements) else \"이름 없음\"\n",
    "            review_text = review_elements[i].text.strip() if i < len(review_elements) else \"리뷰 없음\"\n",
    "            writer.writerow([product_name, title_text, name_text, review_text])\n",
    "    except Exception as e:\n",
    "        print(f\"리뷰 수집 중 오류 발생: {e}\")\n",
    "\n",
    "def handle_unexpected_alert():\n",
    "    try:\n",
    "        alert = driver.switch_to.alert\n",
    "        alert.accept()\n",
    "        time.sleep(1)\n",
    "    except Exception:\n",
    "        pass\n",
    "\n",
    "def navigate_through_pages():\n",
    "    for k in range(start_page, 11):\n",
    "        try:\n",
    "            print(f\"페이지 {k}로 이동 중...\")\n",
    "            driver.execute_script(f\"movePage({k});\")\n",
    "            time.sleep(3)\n",
    "\n",
    "            product_elements = driver.find_elements(By.CLASS_NAME, \"prod_main_info\")\n",
    "            process_products(product_elements, skip_first=4 if k == 1 else 0)\n",
    "\n",
    "        except Exception as e:\n",
    "            print(f\"페이지 {k}에서 오류 발생: {e}\")\n",
    "            continue\n",
    "\n",
    "def process_products(product_elements, skip_first=0):\n",
    "    with open(output_file, mode=\"a\", newline=\"\", encoding=\"utf-8-sig\") as file:\n",
    "        writer = csv.writer(file)\n",
    "        for idx, product_element in enumerate(product_elements[skip_first:], start=1):\n",
    "            try:\n",
    "                name_element = product_element.find_element(By.CLASS_NAME, \"prod_name\")\n",
    "                product_name = name_element.text.strip()\n",
    "\n",
    "                if product_name in visited_products:\n",
    "                    print(f\"이미 처리된 제품: {product_name}, 건너뛰기\")\n",
    "                    continue\n",
    "\n",
    "                link_element = name_element.find_element(By.TAG_NAME, \"a\")\n",
    "                product_url = link_element.get_attribute(\"href\")\n",
    "\n",
    "                pcode_match = re.search(r'pcode=(\\d{8})', product_url)\n",
    "                pcode = pcode_match.group(1) if pcode_match else \"N/A\"\n",
    "\n",
    "                print(f\"{idx}. 제품명: {product_name}, pcode: {pcode}\")\n",
    "\n",
    "                driver.execute_script(\"window.open(arguments[0]);\", product_url)\n",
    "                driver.switch_to.window(driver.window_handles[-1])\n",
    "                time.sleep(2)\n",
    "\n",
    "                driver.find_element(By.XPATH, '//*[@id=\"bookmark_cm_opinion_item\"]/a').click()\n",
    "                time.sleep(2)\n",
    "                driver.find_element(By.XPATH, '//*[@id=\"danawa-prodBlog-productOpinion-button-tab-companyReview\"]').click()\n",
    "                time.sleep(2)\n",
    "\n",
    "                click_all_expand_buttons()\n",
    "                collect_titles_reviews_and_names(writer, product_name)\n",
    "\n",
    "                visited_products.add(product_name)\n",
    "\n",
    "                driver.close()\n",
    "                driver.switch_to.window(driver.window_handles[0])\n",
    "\n",
    "            except UnexpectedAlertPresentException:\n",
    "                handle_unexpected_alert()\n",
    "            except Exception as e:\n",
    "                print(f\"Error processing product {idx}: {e}\")\n",
    "\n",
    "try:\n",
    "    navigate_through_pages()\n",
    "except Exception as e:\n",
    "    print(f\"오류 발생: {e}\")\n",
    "\n",
    "driver.quit()"
   ]
  },
  {
   "cell_type": "code",
   "execution_count": null,
   "metadata": {},
   "outputs": [],
   "source": [
    "import pandas as pd\n",
    "\n",
    "df_r = pd.read_csv(\"리뷰모음 파일명 넣기.csv\")\n",
    "df_r"
   ]
  },
  {
   "cell_type": "markdown",
   "metadata": {
    "id": "opsUYVg_SBIL"
   },
   "source": [
    "### 1.1 데이터 소스 설명"
   ]
  },
  {
   "cell_type": "markdown",
   "metadata": {},
   "source": [
    "\n",
    "df = 다나와 컴퓨터,전자제품 판매 사이트 노트북 인기순 리스트이며, 각 노트북의 가격과 상세 사양도 같이 수집한 데이터입니다.\n",
    "df_r = 해당 데이터의 제품명 리스트 각 리뷰를 모두 수집한 데이터입니다."
   ]
  },
  {
   "cell_type": "markdown",
   "metadata": {
    "id": "1ldjhXE8SEHi"
   },
   "source": [
    "###1.2 데이터 수집 방법"
   ]
  },
  {
   "cell_type": "markdown",
   "metadata": {},
   "source": [
    "웹크롤링 파이썬 코드를 작성하여 사이트를 크롤링하여 수집하였습니다. "
   ]
  },
  {
   "cell_type": "markdown",
   "metadata": {
    "id": "rNbA3vR6R1Bk"
   },
   "source": [
    "## Phase2. 데이터 전처리"
   ]
  },
  {
   "cell_type": "code",
   "execution_count": null,
   "metadata": {
    "id": "Y8JH4gOH_SMS"
   },
   "outputs": [],
   "source": []
  },
  {
   "cell_type": "markdown",
   "metadata": {
    "id": "CvnYHsHVSQDX"
   },
   "source": [
    "### 2.1 데이터 클렌징"
   ]
  },
  {
   "cell_type": "markdown",
   "metadata": {
    "id": "ofl1hxpnSSLq"
   },
   "source": [
    "### 2.2 결측치 처리"
   ]
  },
  {
   "cell_type": "markdown",
   "metadata": {
    "id": "aEtV8B91SUUP"
   },
   "source": [
    "### 2.3 데이터 변환 및 정규화"
   ]
  },
  {
   "cell_type": "markdown",
   "metadata": {
    "id": "72CxDmUmR0As"
   },
   "source": [
    "## Phase3. 통계학적 분석 및 시각화"
   ]
  },
  {
   "cell_type": "markdown",
   "metadata": {
    "id": "0V_srT5TSY_9"
   },
   "source": [
    "### 3.1 데이터 탐색"
   ]
  },
  {
   "cell_type": "markdown",
   "metadata": {
    "id": "Mtc2Kwb_F39I"
   },
   "source": [
    "- ---를 확인하고싶 - > 1,2,를 이용하여 새로운열 . 를 만든다"
   ]
  },
  {
   "cell_type": "code",
   "execution_count": null,
   "metadata": {
    "id": "EJ7P2PwjTwOj"
   },
   "outputs": [],
   "source": [
    "(데이터의 특성과 분포를 파악하고, 주요 통계치를 분석하여 데이터에 대한 전반적인 이해를 돕습니다.)"
   ]
  },
  {
   "cell_type": "markdown",
   "metadata": {
    "id": "PDDJPo4TScti"
   },
   "source": [
    "### 3.2 시각화 도구 및 기법"
   ]
  },
  {
   "cell_type": "markdown",
   "metadata": {
    "id": "dIRkdhiNSeV6"
   },
   "source": [
    "### 3.3 통계적 분석의 결론"
   ]
  },
  {
   "cell_type": "markdown",
   "metadata": {
    "id": "n4RsS7lgSqNX"
   },
   "source": [
    "# D.모델링 및 평가"
   ]
  },
  {
   "cell_type": "markdown",
   "metadata": {
    "id": "ziLJbAzvStoq"
   },
   "source": [
    "## phase 4. 머신러닝"
   ]
  },
  {
   "cell_type": "markdown",
   "metadata": {
    "id": "cOX41TOWSvp9"
   },
   "source": [
    "###4.1 모델 선택"
   ]
  },
  {
   "cell_type": "markdown",
   "metadata": {
    "id": "FNw_UETSTAUa"
   },
   "source": [
    "###4.2 데이터 준비/인코딩\n"
   ]
  },
  {
   "cell_type": "code",
   "execution_count": null,
   "metadata": {
    "id": "b5VJZc89KRU9"
   },
   "outputs": [],
   "source": [
    "(데이터 전처리와 비슷하나, 이번엔 머신러닝 및 딥러닝을 위한 전처리입니다. 데이터삭제, 카테고리화, 수치화, 인코딩 등이 포함됩니다. )"
   ]
  },
  {
   "cell_type": "markdown",
   "metadata": {
    "id": "9pxDAYnWTBlC"
   },
   "source": [
    "###4.3 모델 학습\n"
   ]
  },
  {
   "cell_type": "markdown",
   "metadata": {
    "id": "J43WQYKYTC1s"
   },
   "source": [
    "###4.4 모델 평가\n"
   ]
  },
  {
   "cell_type": "code",
   "execution_count": null,
   "metadata": {
    "id": "3FJ7p4JrT2MK"
   },
   "outputs": [],
   "source": [
    "(다양한 평가 지표를 사용하여 모델의 성능을 평가합니다.)"
   ]
  },
  {
   "cell_type": "markdown",
   "metadata": {
    "id": "B9JS93hJTEFM"
   },
   "source": [
    "###4.5 예측결과 및 시각화\n"
   ]
  },
  {
   "cell_type": "markdown",
   "metadata": {
    "id": "05cCP6GPTFFO"
   },
   "source": [
    "###4.6 하이퍼 파라미터 튜닝\n"
   ]
  },
  {
   "cell_type": "code",
   "execution_count": null,
   "metadata": {
    "id": "FIeMy4d4T6c6"
   },
   "outputs": [],
   "source": [
    "(모델의 성능을 최적화하기 위한 하이퍼파라미터 튜닝 과정을 설명합니다.)"
   ]
  },
  {
   "cell_type": "markdown",
   "metadata": {
    "id": "1BVW01WZTGJi"
   },
   "source": [
    "###4.7 모델 개선\n"
   ]
  },
  {
   "cell_type": "code",
   "execution_count": null,
   "metadata": {
    "id": "aId1EkErT9hC"
   },
   "outputs": [],
   "source": [
    "(모델의 성능을 개선하기 위해 시도한 방법과 그 결과를 설명합니다.)"
   ]
  },
  {
   "cell_type": "markdown",
   "metadata": {
    "id": "hAG55G27THOC"
   },
   "source": [
    "###4.8 예측결과와 결론"
   ]
  },
  {
   "cell_type": "markdown",
   "metadata": {
    "id": "nlSzYjNJTMRc"
   },
   "source": [
    "# E. 응용 및 배포"
   ]
  },
  {
   "cell_type": "code",
   "execution_count": null,
   "metadata": {
    "id": "J1sy8vdzUFAS"
   },
   "outputs": [],
   "source": [
    "(모델을 실제 환경에 배포하는 과정과 그에 따른 통합 작업을 설명합니다.)"
   ]
  },
  {
   "cell_type": "markdown",
   "metadata": {
    "id": "82CLMUrRTQLA"
   },
   "source": [
    "## phase 5. 응용 어플리케이션 (선택)"
   ]
  },
  {
   "cell_type": "markdown",
   "metadata": {
    "id": "36YQ9Ry3TR-X"
   },
   "source": [
    "###5.1 개요 및 알고리즘\n"
   ]
  },
  {
   "cell_type": "markdown",
   "metadata": {
    "id": "XZ8oXpaETdbS"
   },
   "source": [
    "###5.2 플랫폼\n"
   ]
  },
  {
   "cell_type": "markdown",
   "metadata": {
    "id": "V-YpkhSfTelj"
   },
   "source": [
    "###5.3 UI\n"
   ]
  },
  {
   "cell_type": "markdown",
   "metadata": {
    "id": "OqoAJW1lTgDb"
   },
   "source": [
    "###5.4 테스트\n"
   ]
  },
  {
   "cell_type": "markdown",
   "metadata": {
    "id": "nNgq_P1IThVT"
   },
   "source": [
    "###5.5 소스코드\n"
   ]
  },
  {
   "cell_type": "markdown",
   "metadata": {
    "id": "HQAP5Ap-TiC-"
   },
   "source": [
    "###5.6 피드백"
   ]
  },
  {
   "cell_type": "markdown",
   "metadata": {
    "id": "kMdGHed-Tj8q"
   },
   "source": [
    "# F.마무리"
   ]
  },
  {
   "cell_type": "code",
   "execution_count": null,
   "metadata": {
    "id": "1PPpAqJ5UJL8"
   },
   "outputs": [],
   "source": [
    "( 프로젝트의 전체적인 성과와 배운 점을 정리하고, 향후 개선 사항이나 추가할 내용에 대해 간략히 설명합니다.)"
   ]
  },
  {
   "cell_type": "code",
   "execution_count": 1,
   "metadata": {},
   "outputs": [],
   "source": [
    "import matplotlib\n",
    "matplotlib.rcParams['figure.facecolor'] = 'white'\n",
    "matplotlib.rcParams['axes.facecolor'] = 'white'"
   ]
  }
 ],
 "metadata": {
  "colab": {
   "authorship_tag": "ABX9TyOV4m3PVqNk2JMO8ZvQjLqp",
   "provenance": []
  },
  "kernelspec": {
   "display_name": "Python 3",
   "name": "python3"
  },
  "language_info": {
   "codemirror_mode": {
    "name": "ipython",
    "version": 3
   },
   "file_extension": ".py",
   "mimetype": "text/x-python",
   "name": "python",
   "nbconvert_exporter": "python",
   "pygments_lexer": "ipython3",
   "version": "3.12.6"
  }
 },
 "nbformat": 4,
 "nbformat_minor": 0
}
